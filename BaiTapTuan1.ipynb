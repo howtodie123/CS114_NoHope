{
  "nbformat": 4,
  "nbformat_minor": 0,
  "metadata": {
    "colab": {
      "provenance": []
    },
    "kernelspec": {
      "name": "python3",
      "display_name": "Python 3"
    },
    "language_info": {
      "name": "python"
    }
  },
  "cells": [
    {
      "cell_type": "code",
      "execution_count": null,
      "metadata": {
        "id": "cQ5iYr8bxuo-"
      },
      "outputs": [],
      "source": [
        "def create_matrix_with_strings(H, W):\n",
        "    matrix = []\n",
        "    for i in range(H):\n",
        "        row = []\n",
        "        for j in range(W):\n",
        "            value = input()\n",
        "            row.append(value)\n",
        "        matrix.append(row)\n",
        "    return matrix\n",
        "\n",
        "H = int(input(\"Nhập số hàng: \"))\n",
        "W = int(input(\"Nhập số cột: \"))\n",
        "K = int(input(\"Nhập tuổi: \"))\n",
        "\n",
        "if H <= 0 or W <= 0:\n",
        "    print(\"Số hàng và số cột phải lớn hơn 0.\")\n",
        "else:\n",
        "    matrix = create_matrix_with_strings(H, W)\n",
        "    print(\"Ma trận 2 chiều được tạo:\")\n",
        "    for row in matrix:\n",
        "        print(row)\n"
      ]
    },
    {
      "cell_type": "code",
      "source": [
        "!pip install itertools"
      ],
      "metadata": {
        "colab": {
          "base_uri": "https://localhost:8080/"
        },
        "id": "T4cxeiP3gGwq",
        "outputId": "71ff7836-4800-4ae4-ebc9-67918fe0abc2"
      },
      "execution_count": null,
      "outputs": [
        {
          "output_type": "stream",
          "name": "stdout",
          "text": [
            "\u001b[31mERROR: Could not find a version that satisfies the requirement itertools (from versions: none)\u001b[0m\u001b[31m\n",
            "\u001b[0m\u001b[31mERROR: No matching distribution found for itertools\u001b[0m\u001b[31m\n",
            "\u001b[0m"
          ]
        }
      ]
    },
    {
      "cell_type": "code",
      "source": [
        "import itertools\n",
        "\n",
        "# Tạo ma trận\n",
        "def create_matrix_with_strings(H, W):\n",
        "    matrix = []\n",
        "    for i in range(H):\n",
        "        row = []\n",
        "        line = input(format(i + 1))\n",
        "        # Tách chuỗi thành các cặp ký tự\n",
        "        values = [1 if char == '#' else 0 for char in line]# nếu # thì 1, không thì 0\n",
        "        row.extend(values)\n",
        "        matrix.append(row)\n",
        "    return matrix\n",
        "# tính tổng ma trận\n",
        "def sum_of_matrix(matrix):\n",
        "    total_sum = sum(sum(row) for row in matrix)\n",
        "    return total_sum\n",
        "\n",
        "# Xóa cột\n",
        "def remove_column(matrix, column_index):\n",
        "    return [[row[i] for i in range(len(row)) if i != column_index] for row in matrix]\n",
        "# Xóa nhiều cột\n",
        "def remove_columns(matrix, columns_to_remove):\n",
        "    for column_index in sorted(columns_to_remove, reverse=True):\n",
        "        matrix = remove_column(matrix, column_index)\n",
        "    return matrix\n",
        "\n",
        "def generate_columns(selected_column, total_columns):\n",
        "    columns = list(range(1, total_columns + 1))  # Tạo danh sách cột từ 1 đến số cột tổng cộng\n",
        "    combinations = itertools.combinations(columns, selected_column)\n",
        "    return [list(comb) for comb in combinations]\n",
        "\n",
        "def remove_row(matrix, row_index):\n",
        "    return [row for i, row in enumerate(matrix) if i != row_index]\n",
        "\n",
        "def remove_rows(matrix, rows_to_remove):\n",
        "    for row_index in sorted(rows_to_remove, reverse=True):\n",
        "        matrix = remove_row(matrix, row_index)\n",
        "    return matrix\n",
        "\n",
        "Count = 0;\n",
        "\n",
        "H, W, K = map(int, input().split())\n",
        "\n",
        "matrix = create_matrix_with_strings(H, W)\n",
        "\n",
        "if sum_of_matrix(matrix) == K:\n",
        "    print(1)\n",
        "    exit()\n",
        "\n",
        "\n",
        "ree1 = generate_columns(1,H)\n",
        "for item1 in ree1:\n",
        "   a1 = remove_rows(matrix, item1)\n",
        "   if sum_of_matrix(a1) == K:\n",
        "      Count += 1\n",
        "\n",
        "\n",
        "ree2 = generate_columns(1,W)\n",
        "for item1 in ree2:\n",
        "    a2 = remove_columns(matrix, item1)\n",
        "    if sum_of_matrix(a2) == K:\n",
        "          Count += 1\n",
        "\n",
        "for i in range(1, H):\n",
        "   re1 = generate_columns(i,H)\n",
        "   for k in range(1, W ):\n",
        "       re2 = generate_columns(k,W)\n",
        "       for item1 in re1:\n",
        "            for item2 in re2:\n",
        "                a = remove_rows(matrix, item1)\n",
        "                b = remove_columns(a, item2)\n",
        "                if sum_of_matrix(b) == K:\n",
        "                   Count += 1\n",
        "\n",
        "print(Count)"
      ],
      "metadata": {
        "colab": {
          "base_uri": "https://localhost:8080/"
        },
        "id": "NNVVWeOmwKrg",
        "outputId": "21a7df11-7035-43c5-82ea-7a31644ed41e"
      },
      "execution_count": null,
      "outputs": [
        {
          "output_type": "stream",
          "name": "stdout",
          "text": [
            "2 2 3\n",
            "1##\n",
            "2##\n",
            "[[1], [2]]\n",
            "0\n"
          ]
        }
      ]
    },
    {
      "cell_type": "code",
      "source": [
        "!python python.py\n"
      ],
      "metadata": {
        "colab": {
          "base_uri": "https://localhost:8080/"
        },
        "id": "I1JO7Gch_8Ec",
        "outputId": "8e2bed0f-1f9b-4645-d1da-8f9f732a1b07"
      },
      "execution_count": null,
      "outputs": [
        {
          "output_type": "stream",
          "name": "stdout",
          "text": [
            "Nhập số hàng: 2\n",
            "Nhập số cột: 3\n",
            "Nhập tuổi: 2\n",
            "Nhập hàng 1: ..#\n",
            "Nhập hàng 2: ###\n",
            "3\n"
          ]
        }
      ]
    },
    {
      "cell_type": "code",
      "source": [
        "import itertools\n",
        "\n",
        "def print_columns(selected_column):\n",
        "    columns = [-1, -2, -3, -4, -5, -6]\n",
        "    if selected_column == 1:\n",
        "        print(columns)\n",
        "    elif selected_column == 2:\n",
        "        for pair in itertools.combinations(columns, 2):\n",
        "            print(pair)\n",
        "    elif selected_column == 3:\n",
        "        for triple in itertools.combinations(columns, 3):\n",
        "            print(triple)\n",
        "    else:\n",
        "        print(\"Invalid selection\")\n",
        "\n",
        "selected_column = int(input(\"Nhập số cột bạn muốn in: \"))\n",
        "print_columns(selected_column)\n"
      ],
      "metadata": {
        "colab": {
          "base_uri": "https://localhost:8080/"
        },
        "id": "TJgwCoghE7l5",
        "outputId": "0dd73217-2634-4e97-ba64-09c844d3fa75"
      },
      "execution_count": null,
      "outputs": [
        {
          "output_type": "stream",
          "name": "stdout",
          "text": [
            "Nhập số cột bạn muốn in: 3\n",
            "(-1, -2, -3)\n",
            "(-1, -2, -4)\n",
            "(-1, -2, -5)\n",
            "(-1, -2, -6)\n",
            "(-1, -3, -4)\n",
            "(-1, -3, -5)\n",
            "(-1, -3, -6)\n",
            "(-1, -4, -5)\n",
            "(-1, -4, -6)\n",
            "(-1, -5, -6)\n",
            "(-2, -3, -4)\n",
            "(-2, -3, -5)\n",
            "(-2, -3, -6)\n",
            "(-2, -4, -5)\n",
            "(-2, -4, -6)\n",
            "(-2, -5, -6)\n",
            "(-3, -4, -5)\n",
            "(-3, -4, -6)\n",
            "(-3, -5, -6)\n",
            "(-4, -5, -6)\n"
          ]
        }
      ]
    },
    {
      "cell_type": "code",
      "source": [
        "def create_sorted_array(num):\n",
        "    return list(range(1, num+1))\n",
        "\n",
        "def main():\n",
        "    num_columns = int(input(\"Nhập số cột: \"))\n",
        "    sorted_array = create_sorted_array(num_columns)\n",
        "    print(\"Mảng tăng dần là:\", sorted_array)\n",
        "\n",
        "if __name__ == \"__main__\":\n",
        "    main()"
      ],
      "metadata": {
        "colab": {
          "base_uri": "https://localhost:8080/"
        },
        "id": "l0n_Lw-6IJUx",
        "outputId": "1c9feb12-226b-4d97-db51-9d40594afb21"
      },
      "execution_count": null,
      "outputs": [
        {
          "output_type": "stream",
          "name": "stdout",
          "text": [
            "Nhập số cột: 4\n",
            "Mảng tăng dần là: [1, 2, 3, 4]\n"
          ]
        }
      ]
    },
    {
      "cell_type": "code",
      "source": [
        "import itertools\n",
        "\n",
        "def generate_columns(selected_column, total_columns):\n",
        "    columns = list(range(1, total_columns + 1))  # Tạo danh sách cột từ 1 đến số cột tổng cộng\n",
        "    if selected_column == 1:\n",
        "        return [columns]\n",
        "    else:\n",
        "        combinations = itertools.combinations(columns, selected_column)\n",
        "        return list(combinations)\n",
        "\n",
        "total_columns = int(input(\"Nhập tổng số cột: \"))\n",
        "selected_column = int(input(\"Nhập số cột bạn muốn in: \"))\n",
        "\n",
        "result = generate_columns(selected_column, total_columns)\n",
        "for item in result:\n",
        "   print(item)"
      ],
      "metadata": {
        "colab": {
          "base_uri": "https://localhost:8080/"
        },
        "id": "vkFljnCMXnQ6",
        "outputId": "d0dffe60-de67-4cb7-823e-b10e03f32c61"
      },
      "execution_count": null,
      "outputs": [
        {
          "output_type": "stream",
          "name": "stdout",
          "text": [
            "Nhập tổng số cột: 3\n",
            "Nhập số cột bạn muốn in: 2\n",
            "[(1, 2)]\n",
            "[(1, 3)]\n",
            "[(2, 3)]\n"
          ]
        }
      ]
    },
    {
      "cell_type": "code",
      "source": [
        "import itertools\n",
        "\n",
        "def generate_columns(selected_column, total_columns):\n",
        "    columns = list(range(1, total_columns + 1))  # Tạo danh sách cột từ 1 đến số cột tổng cộng\n",
        "    if selected_column == 1:\n",
        "        return [columns]\n",
        "    else:\n",
        "        combinations = itertools.combinations(columns, selected_column)\n",
        "        return [list(comb) for comb in combinations]\n",
        "\n",
        "# Test\n",
        "selected_column = 2\n",
        "total_columns = 4\n",
        "print(generate_columns(selected_column, total_columns))\n",
        "result = generate_columns(selected_column, total_columns)\n",
        "\n",
        "for sub_array in result:\n",
        "    print(sub_array)"
      ],
      "metadata": {
        "colab": {
          "base_uri": "https://localhost:8080/"
        },
        "id": "zs4pnfk-7TdN",
        "outputId": "6579371f-fbb7-4cc9-b972-d85a1f6fcbd9"
      },
      "execution_count": null,
      "outputs": [
        {
          "output_type": "stream",
          "name": "stdout",
          "text": [
            "[[1, 2], [1, 3], [1, 4], [2, 3], [2, 4], [3, 4]]\n",
            "[1, 2]\n",
            "[1, 3]\n",
            "[1, 4]\n",
            "[2, 3]\n",
            "[2, 4]\n",
            "[3, 4]\n"
          ]
        }
      ]
    },
    {
      "cell_type": "code",
      "source": [
        "def count_ways(H, W, K, grid):\n",
        "    total_ways = 0\n",
        "\n",
        "    row_black_count = [0] * H\n",
        "    col_black_count = [0] * W\n",
        "\n",
        "    for i in range(H):\n",
        "        for j in range(W):\n",
        "            if grid[i][j] == '#':\n",
        "                row_black_count[i] += 1\n",
        "                col_black_count[j] += 1\n",
        "\n",
        "    for row_mask in range(1 << H):\n",
        "        for col_mask in range(1 << W):\n",
        "            black_count = 0\n",
        "            for i in range(H):\n",
        "                if row_mask & (1 << i):\n",
        "                    black_count += row_black_count[i]\n",
        "\n",
        "            for j in range(W):\n",
        "                if col_mask & (1 << j):\n",
        "                    black_count += col_black_count[j]\n",
        "\n",
        "            overlap_count = 0\n",
        "            for i in range(H):\n",
        "                for j in range(W):\n",
        "                    if (row_mask & (1 << i)) and (col_mask & (1 << j)) and grid[i][j] == '#':\n",
        "                        overlap_count += 1\n",
        "\n",
        "            if black_count - overlap_count == K:\n",
        "                total_ways += 1\n",
        "\n",
        "    return total_ways\n",
        "\n",
        "H = int(input(\"Nhập số hàng: \"))\n",
        "W = int(input(\"Nhập số cột: \"))\n",
        "K = int(input(\"Nhập tuổi: \"))\n",
        "\n",
        "# Đọc đầu vào\n",
        "\n",
        "grid = [input() for _ in range(H)]\n",
        "\n",
        "# Gọi hàm và in ra kết quả\n",
        "result = count_ways(H, W, K, grid)\n",
        "print(result)"
      ],
      "metadata": {
        "colab": {
          "base_uri": "https://localhost:8080/"
        },
        "id": "cFjFRstWA_UE",
        "outputId": "1f5834da-49cf-4b18-8782-ebb163a3540f"
      },
      "execution_count": null,
      "outputs": [
        {
          "output_type": "stream",
          "name": "stdout",
          "text": [
            "Nhập số hàng: 2\n",
            "Nhập số cột: 3\n",
            "Nhập tuổi: 2\n",
            "..#\n",
            "###\n",
            "5\n"
          ]
        }
      ]
    },
    {
      "cell_type": "code",
      "source": [
        "H, W, K = map(int, input().split())\n",
        "\n",
        "total_ways = 0\n",
        "\n",
        "row_black_count = [0] * H\n",
        "col_black_count = [0] * W\n",
        "\n",
        "grid = [input() for _ in range(H)]\n",
        "\n",
        "initial_black_count = sum(row.count('#') for row in grid)\n",
        "if initial_black_count == K:\n",
        "    print(1)\n",
        "    exit()\n",
        "\n",
        "for i in range(H):\n",
        "    for j in range(W):\n",
        "        if grid[i][j] == '#':\n",
        "            row_black_count[i] += 1\n",
        "            col_black_count[j] += 1\n",
        "\n",
        "for row_mask in range(1 << H):\n",
        "    for col_mask in range(1 << W):\n",
        "        black_count = 0\n",
        "        overlap_count = 0\n",
        "\n",
        "        for i in range(H):\n",
        "            if row_mask & (1 << i):\n",
        "                black_count += row_black_count[i]\n",
        "\n",
        "        for j in range(W):\n",
        "            if col_mask & (1 << j):\n",
        "                black_count += col_black_count[j]\n",
        "\n",
        "        for i in range(H):\n",
        "            if row_mask & (1 << i):\n",
        "                for j in range(W):\n",
        "                    if col_mask & (1 << j) and grid[i][j] == '#':\n",
        "                        overlap_count += 1\n",
        "\n",
        "        if black_count - overlap_count == K:\n",
        "            total_ways += 1\n",
        "\n",
        "print(total_ways)"
      ],
      "metadata": {
        "colab": {
          "base_uri": "https://localhost:8080/"
        },
        "id": "mopOzj4gIdfc",
        "outputId": "711e907d-61d5-4433-feda-f82e7671d995"
      },
      "execution_count": null,
      "outputs": [
        {
          "output_type": "stream",
          "name": "stdout",
          "text": [
            "2 2 3\n",
            "##\n",
            "##\n",
            "4\n"
          ]
        }
      ]
    },
    {
      "cell_type": "markdown",
      "source": [
        "Câu 3:"
      ],
      "metadata": {
        "id": "I_kHeKZ4IbgM"
      }
    },
    {
      "cell_type": "code",
      "source": [
        "def count_ways(H, W, K, grid):\n",
        "    total_ways = 0\n",
        "    found_solution = False\n",
        "\n",
        "    # Tính toán số lượng ô màu đen trên từng hàng và từng cột\n",
        "    row_black_count = [0] * H\n",
        "    col_black_count = [0] * W\n",
        "    for i in range(H):\n",
        "        for j in range(W):\n",
        "            if grid[i][j] == '#':\n",
        "                row_black_count[i] += 1\n",
        "                col_black_count[j] += 1\n",
        "\n",
        "    # Dynamic programming: tính toán số cách chọn hàng và cột thỏa mãn yêu cầu\n",
        "    dp = [[0] * (1 << W) for _ in range(H + 1)]\n",
        "    dp[0][0] = 1\n",
        "    for i in range(1, H + 1):\n",
        "        for row_mask in range(1 << W):\n",
        "            for j in range(1, W + 1):\n",
        "                # Kiểm tra nếu hàng hiện tại có j cột được chọn\n",
        "                if bin(row_mask).count('1') == j:\n",
        "                    count_black = 0\n",
        "                    for k in range(W):\n",
        "                        # Đếm số ô màu đen trong hàng đã chọn\n",
        "                        if row_mask & (1 << k):\n",
        "                            count_black += col_black_count[k]\n",
        "                    # Kiểm tra số ô màu đen có bằng K không\n",
        "                    if count_black == K:\n",
        "                        for pre_row_mask in range(1 << W):\n",
        "                            # Kiểm tra xem hàng trước có thỏa mãn không\n",
        "                            if bin(pre_row_mask & row_mask).count('1') == j - 1:\n",
        "                                dp[i][row_mask] += dp[i - 1][pre_row_mask]\n",
        "                                found_solution = True\n",
        "\n",
        "    # Tổng hợp số cách thỏa mãn yêu cầu\n",
        "    if found_solution:\n",
        "        for row_mask in range(1 << W):\n",
        "            total_ways += dp[H][row_mask]\n",
        "\n",
        "    return total_ways\n",
        "\n",
        "\n",
        "H, W, K = map(int, input().split())\n",
        "\n",
        "\n",
        "# Đọc đầu vào\n",
        "\n",
        "grid = [input() for _ in range(H)]\n",
        "\n",
        "# Gọi hàm và in ra kết quả\n",
        "result = count_ways(H, W, K, grid)\n",
        "print(result)"
      ],
      "metadata": {
        "colab": {
          "base_uri": "https://localhost:8080/"
        },
        "id": "V2c8gePxOY54",
        "outputId": "b649f438-c914-460d-bab0-603023b7f2b3"
      },
      "execution_count": null,
      "outputs": [
        {
          "output_type": "stream",
          "name": "stdout",
          "text": [
            "2 2 3\n",
            "##\n",
            "##\n",
            "0\n"
          ]
        }
      ]
    },
    {
      "cell_type": "code",
      "source": [
        "def count_ways(H, W, K, grid):\n",
        "    total_ways = 0\n",
        "\n",
        "    initial_black_count = sum(row.count('#') for row in grid)\n",
        "    if initial_black_count == K:\n",
        "        return 1  # Trả về 1 nếu số ô đen trong lưới ban đầu đã bằng K\n",
        "\n",
        "    if initial_black_count < K:\n",
        "        return 0  # Trả về 0 nếu số ô đen trong lưới ban đầu ít hơn K\n",
        "def count_ways(H, W, K, grid):\n",
        "    total_ways = 0\n",
        "\n",
        "    initial_black_count = sum(row.count('#') for row in grid)\n",
        "    if initial_black_count == K:\n",
        "        return 1  # Trả về 1 nếu số ô đen trong lưới ban đầu đã bằng K\n",
        "\n",
        "    if initial_black_count < K:\n",
        "        return 0  # Trả về 0 nếu số ô đen trong lưới ban đầu ít hơn K\n",
        "\n",
        "    row_black_count = [0] * H\n",
        "    col_black_count = [0] * W\n",
        "\n",
        "    for i in range(H):\n",
        "        for j in range(W):\n",
        "            if grid[i][j] == '#':\n",
        "                row_black_count[i] += 1\n",
        "                col_black_count[j] += 1\n",
        "\n",
        "    for row_mask in range(1 << H):\n",
        "        for col_mask in range(1 << W):\n",
        "            black_count = 0\n",
        "            overlap_count = 0  # Đếm số ô đen được chọn trên cả hàng và cột\n",
        "\n",
        "            for i in range(H):\n",
        "                if row_mask & (1 << i):\n",
        "                    black_count += row_black_count[i]\n",
        "                    overlap_count += row_black_count[i]  # Đếm ô đen trên hàng\n",
        "\n",
        "            for j in range(W):\n",
        "                if col_mask & (1 << j):\n",
        "                    black_count += col_black_count[j]\n",
        "                    overlap_count -= grid[j][i] == '#' and (row_mask & (1 << i))  # Loại bỏ ô đen trên cột nếu nó đã được tính ở trên hàng\n",
        "\n",
        "            overlap_count //= 2  # Vì mỗi ô đen được tính hai lần\n",
        "\n",
        "            if black_count - overlap_count == K:\n",
        "                total_ways += 1\n",
        "\n",
        "    return total_ways\n",
        "\n",
        "\n",
        "H, W, K = map(int, input().split())\n",
        "\n",
        "\n",
        "# Đọc đầu vào\n",
        "\n",
        "grid = [input() for _ in range(H)]\n",
        "\n",
        "# Gọi hàm và in ra kết quả\n",
        "result = count_ways(H, W, K, grid)\n",
        "print(result)#"
      ],
      "metadata": {
        "colab": {
          "base_uri": "https://localhost:8080/"
        },
        "id": "XIkXsV8NVe4V",
        "outputId": "d7269beb-26c3-4fcc-d6b2-831b19790b1e"
      },
      "execution_count": null,
      "outputs": [
        {
          "output_type": "stream",
          "name": "stdout",
          "text": [
            "2 2 3\n",
            "##\n",
            "##\n",
            "2\n"
          ]
        }
      ]
    },
    {
      "cell_type": "code",
      "source": [],
      "metadata": {
        "id": "ddSGsCn3V_fg"
      },
      "execution_count": null,
      "outputs": []
    },
    {
      "cell_type": "code",
      "source": [
        "def count_ways(H, W, K, grid):\n",
        "    total_ways = 0\n",
        "\n",
        "    initial_black_count = sum(row.count('#') for row in grid)\n",
        "    if initial_black_count == K:\n",
        "        total_ways += 1  # Trả về 1 nếu số ô đen trong lưới ban đầu đã bằng K\n",
        "\n",
        "    if initial_black_count < K:\n",
        "        return 0  # Trả về 0 nếu số ô đen trong lưới ban đầu ít hơn K\n",
        "\n",
        "    row_black_count = [0] * H\n",
        "    col_black_count = [0] * W\n",
        "\n",
        "    for i in range(H):\n",
        "        for j in range(W):\n",
        "            if grid[i][j] == '#':\n",
        "                row_black_count[i] += 1\n",
        "                col_black_count[j] += 1\n",
        "\n",
        "    for row_mask in range(1 << H):\n",
        "        for col_mask in range(1 << W):\n",
        "            black_count = 0\n",
        "            overlap_count = 0  # Đếm số ô đen được chọn trên cả hàng và cột\n",
        "\n",
        "            for i in range(H):\n",
        "                if row_mask & (1 << i):\n",
        "                    black_count += row_black_count[i]\n",
        "\n",
        "            for j in range(W):\n",
        "                if col_mask & (1 << j):\n",
        "                    black_count += col_black_count[j]\n",
        "                    overlap_count += grid[j][i] == '#' and (row_mask & (1 << i))  # Đếm ô đen trùng lặp\n",
        "\n",
        "            if black_count - overlap_count == K:\n",
        "                total_ways += 1\n",
        "\n",
        "    return total_ways\n",
        "\n",
        "# Đầu vào\n",
        "H, W, K = map(int, input().split())\n",
        "grid = [input() for _ in range(H)]\n",
        "\n",
        "# Gọi hàm và in ra kết quả\n",
        "result = count_ways(H, W, K, grid)\n",
        "print(result)\n"
      ],
      "metadata": {
        "colab": {
          "base_uri": "https://localhost:8080/"
        },
        "id": "P4mekO8RWfzN",
        "outputId": "0489ff9c-dad1-44fe-d00b-c42bda0e21df"
      },
      "execution_count": null,
      "outputs": [
        {
          "output_type": "stream",
          "name": "stdout",
          "text": [
            "3 3 6\n",
            ".##\n",
            ".##\n",
            ".##\n",
            "4\n"
          ]
        }
      ]
    },
    {
      "cell_type": "markdown",
      "source": [
        "Câu 8\n"
      ],
      "metadata": {
        "id": "o7d9l1KtoC2v"
      }
    },
    {
      "cell_type": "code",
      "source": [
        "import math\n",
        "\n",
        "# Độ dài đường chéo\n",
        "c = int(input())\n",
        "Count = 0\n",
        "\n",
        "for a in range(1, int(c/1.4)):\n",
        "        b_squared = c**2 - a**2\n",
        "        b = math.isqrt(b_squared)\n",
        "        if b**2 == b_squared and a <= b:\n",
        "            Count +=1\n",
        "\n",
        "print(Count)\n",
        "\n",
        "\n",
        "\n"
      ],
      "metadata": {
        "colab": {
          "base_uri": "https://localhost:8080/"
        },
        "id": "1gKfFNesn95Q",
        "outputId": "93fa8d55-474a-4e96-adcf-a43ee25da61a"
      },
      "execution_count": null,
      "outputs": [
        {
          "output_type": "stream",
          "name": "stdout",
          "text": [
            "325\n",
            "7\n"
          ]
        }
      ]
    },
    {
      "cell_type": "code",
      "source": [
        "import math\n",
        "import time\n",
        "\n",
        "\n",
        "# Độ dài đường chéo\n",
        "c = int(input())\n",
        "start_time = time.time()\n",
        "Count = 0\n",
        "\n",
        "# Tính toán giá trị tối đa của a\n",
        "max_a = math.isqrt(c ** 2 // 2) + 1\n",
        "\n",
        "for a in range(1, max_a):\n",
        "    b_squared = c ** 2 - a ** 2\n",
        "    b = math.isqrt(b_squared)\n",
        "    if b ** 2 == b_squared and a <= b :\n",
        "        Count += 1\n",
        "\n",
        "print(Count)\n",
        "\n",
        "end_time = time.time()\n",
        "execution_time = end_time - start_time\n",
        "print(\"Thời gian thực thi: \", execution_time, \"giây\")"
      ],
      "metadata": {
        "colab": {
          "base_uri": "https://localhost:8080/"
        },
        "id": "MgyvXMEi8EEa",
        "outputId": "567be329-f26e-4243-e00d-6e51b1e1a083"
      },
      "execution_count": null,
      "outputs": [
        {
          "output_type": "stream",
          "name": "stdout",
          "text": [
            "1000000\n",
            "5\n",
            "Thời gian thực thi:  0.8074343204498291 giây\n"
          ]
        }
      ]
    },
    {
      "cell_type": "code",
      "source": [
        "import math\n",
        "# Độ dài đường chéo\n",
        "c = int(input())\n",
        "Count = 0\n",
        "\n",
        "# Tính toán giá trị tối đa của a\n",
        "max_a = math.isqrt(c ** 2 // 2) + 1\n",
        "c2 = c**2\n",
        "for a in range(1, max_a):\n",
        "    b_squared = c2  - a ** 2\n",
        "    #b = math.isqrt(b_squared)\n",
        "    #if b ** 2 == b_squared :\n",
        "    if math.isqrt(b_squared) == b_squared ** 0.5:\n",
        "        Count += 1\n",
        "\n",
        "print(Count)\n"
      ],
      "metadata": {
        "id": "G1O5da45AOXK"
      },
      "execution_count": null,
      "outputs": []
    },
    {
      "cell_type": "code",
      "source": [
        "import math\n",
        "b = 17**0.5\n",
        "print(b)\n",
        "print(type(0.5))\n",
        "if type(17**0.5) == type(0.5):\n",
        "            print(\"ádas\")"
      ],
      "metadata": {
        "colab": {
          "base_uri": "https://localhost:8080/"
        },
        "id": "zZitaFJy1yRA",
        "outputId": "b48ad9ba-57aa-4534-ff8c-721f8cf2b480"
      },
      "execution_count": null,
      "outputs": [
        {
          "output_type": "stream",
          "name": "stdout",
          "text": [
            "4.123105625617661\n",
            "<class 'float'>\n",
            "ádas\n"
          ]
        }
      ]
    },
    {
      "cell_type": "markdown",
      "source": [
        "Câu 3"
      ],
      "metadata": {
        "id": "lHz6uIFqsm4-"
      }
    },
    {
      "cell_type": "code",
      "source": [
        "grid = [input() for _ in range(2)]\n",
        "a = sum(row.count('.') for row in grid)\n",
        "if a == 1:\n",
        "  print(\"Yes\")\n",
        "  exit()\n",
        "if a == 0:\n",
        "  print(\"No\")\n",
        "  exit()\n",
        "if a >= 3:\n",
        "  print(\"No\")\n",
        "  exit()\n",
        "if grid[0][1] == '#' and grid[1][0] =='#':\n",
        "  print(\"No\")\n",
        "  exit()\n",
        "if grid[1][0] == '#' and grid[0][1] == '#':\n",
        "  print(\"No\")\n",
        "  exit()\n",
        "\n",
        "print(\"Yes\")"
      ],
      "metadata": {
        "colab": {
          "base_uri": "https://localhost:8080/"
        },
        "id": "0a1N4CgUsmo3",
        "outputId": "3bee6a0e-a368-4389-baa0-e22a91c05397"
      },
      "execution_count": null,
      "outputs": [
        {
          "output_type": "stream",
          "name": "stdout",
          "text": [
            "##\n",
            ".#\n",
            "['##', '.#']\n",
            "Yes\n",
            "No\n"
          ]
        }
      ]
    },
    {
      "cell_type": "code",
      "source": [
        "import math\n",
        "import time\n",
        "\n",
        "start_time = time.time()\n",
        "\n",
        "def find_right_triangle_sides(c):\n",
        "    results = []\n",
        "    for a in range(1, c):\n",
        "        b_squared = c**2 - a**2\n",
        "        b = math.isqrt(b_squared)\n",
        "        if b**2 == b_squared and a <= b:\n",
        "            results.append((a, b))\n",
        "    return results\n",
        "\n",
        "# Độ dài đường chéo\n",
        "c = int(input(\"Nhập độ dài của đường chéo: \"))\n",
        "\n",
        "# Tìm các cặp cạnh góc vuông\n",
        "sides = find_right_triangle_sides(c)\n",
        "\n",
        "if sides:\n",
        "    print(\"Các cặp cạnh góc vuông cho đường chéo\", c, \"là:\")\n",
        "    for side in sides:\n",
        "        print(side)\n",
        "else:\n",
        "    print(\"Không có cặp cạnh góc vuông nào cho đường chéo\", c)"
      ],
      "metadata": {
        "colab": {
          "base_uri": "https://localhost:8080/"
        },
        "id": "iSI37LoQ9DeY",
        "outputId": "587fad86-8267-4ac8-fa03-8dd2efbbcd8b"
      },
      "execution_count": null,
      "outputs": [
        {
          "output_type": "stream",
          "name": "stdout",
          "text": [
            "Nhập độ dài của đường chéo: 1800000\n",
            "Các cặp cạnh góc vuông cho đường chéo 1800000 là:\n",
            "(136512, 1794816)\n",
            "(504000, 1728000)\n",
            "(633600, 1684800)\n",
            "(967680, 1517760)\n",
            "(1080000, 1440000)\n"
          ]
        }
      ]
    },
    {
      "cell_type": "code",
      "source": [
        "import math\n",
        "\n",
        "# Độ dài đường chéo\n",
        "c = int(input())\n",
        "count = 0\n",
        "\n",
        "# Khởi tạo giá trị đầu tiên của a\n",
        "a = 1\n",
        "c2 = math.isqrt(c ** 2 // 2) + 1\n",
        "c1 = c**2\n",
        "# Tính toán số lượng các b có thể tương ứng với mỗi a\n",
        "while True:\n",
        "    b_squared = c1 - a ** 2\n",
        "    b = math.isqrt(b_squared)\n",
        "    if b ** 2 == b_squared:\n",
        "        count += 1\n",
        "        if c2 > b:\n",
        "         c2 = b\n",
        "\n",
        "    a += 1\n",
        "    if a >= c2:\n",
        "        break\n",
        "\n",
        "print(count)"
      ],
      "metadata": {
        "colab": {
          "base_uri": "https://localhost:8080/"
        },
        "id": "adnSHLOTlYQE",
        "outputId": "df30a311-12f1-4a0b-a651-548c6234e68f"
      },
      "execution_count": null,
      "outputs": [
        {
          "output_type": "stream",
          "name": "stdout",
          "text": [
            "1000000\n",
            "6\n"
          ]
        }
      ]
    },
    {
      "cell_type": "code",
      "source": [
        "import math\n",
        "\n",
        "# Độ dài đường chéo\n",
        "c = int(input())\n",
        "Count = 0\n",
        "\n",
        "# Tính toán giá trị tối đa của a\n",
        "max_a = math.isqrt(c ** 2 // 2) + 1\n",
        "c2 = c**2\n",
        "for a in range(1, max_a):\n",
        "    b_squared = c2  - a ** 2\n",
        "    b = math.isqrt(b_squared)\n",
        "    if b ** 2 == b_squared :\n",
        "        Count += 1\n",
        "    if a > b:\n",
        "      break\n",
        "\n",
        "print(Count)"
      ],
      "metadata": {
        "colab": {
          "base_uri": "https://localhost:8080/"
        },
        "id": "ntaQD2pAtFvE",
        "outputId": "c2063b7b-3ad8-4d6c-dab6-26720ab0b271"
      },
      "execution_count": null,
      "outputs": [
        {
          "output_type": "stream",
          "name": "stdout",
          "text": [
            "7000000\n",
            "6\n"
          ]
        }
      ]
    },
    {
      "cell_type": "code",
      "source": [
        "def distance_squared(point1, point2):\n",
        "    return (point1[0] - point2[0]) ** 2 + (point1[1] - point2[1]) ** 2\n",
        "\n",
        "def find_square_vertices(A, B):\n",
        "    AB_distance_squared = distance_squared(A, B)\n",
        "    squares = []\n",
        "\n",
        "    for i in range(4):\n",
        "        C = [(A[0] + B[0] + (A[1] - B[1]) * (-1) ** i) / 2,\n",
        "             (A[1] + B[1] + (B[0] - A[0]) * (-1) ** i) / 2]\n",
        "\n",
        "        if distance_squared(A, C) == AB_distance_squared / 2:\n",
        "            D = [C[0] + A[1] - B[1], C[1] + B[0] - A[0]]\n",
        "            squares.append([A, B, C, D])\n",
        "\n",
        "    return squares\n",
        "\n",
        "# Nhập tọa độ điểm A và B\n",
        "A = list(map(int, input().split()))\n",
        "B = list(map(int, input().split()))\n",
        "\n",
        "# Tìm và in ra tọa độ các hình vuông\n",
        "squares = find_square_vertices(A, B)\n",
        "for square in squares:\n",
        "    for point in square:\n",
        "        print('({}, {})'.format(point[0], point[1]), end=' ')\n",
        "    print()"
      ],
      "metadata": {
        "colab": {
          "base_uri": "https://localhost:8080/"
        },
        "id": "5WcrAVQMC7Ht",
        "outputId": "db1c84ea-83da-4fb2-e2e0-928a090bdeb6"
      },
      "execution_count": null,
      "outputs": [
        {
          "output_type": "stream",
          "name": "stdout",
          "text": [
            "2 4\n",
            "3 4\n",
            "(2, 4) (3, 4) (2.5, 4.5) (2.5, 5.5) \n",
            "(2, 4) (3, 4) (2.5, 3.5) (2.5, 4.5) \n",
            "(2, 4) (3, 4) (2.5, 4.5) (2.5, 5.5) \n",
            "(2, 4) (3, 4) (2.5, 3.5) (2.5, 4.5) \n"
          ]
        }
      ]
    },
    {
      "cell_type": "code",
      "source": [
        "def find_square_vertices(A, B):\n",
        "    AB = [B[0] - A[0], B[1] - A[1]]\n",
        "    normal_vector = [-AB[1], AB[0]]\n",
        "\n",
        "    # Đảm bảo rằng normal_vector có độ dài là 1\n",
        "    length = (normal_vector[0] ** 2 + normal_vector[1] ** 2) ** 0.5\n",
        "    normal_vector = [normal_vector[0] / length, normal_vector[1] / length]\n",
        "\n",
        "    C = [B[0] + normal_vector[0], B[1] + normal_vector[1]]\n",
        "    D = [A[0] + normal_vector[0], A[1] + normal_vector[1]]\n",
        "\n",
        "    E = [A[0] + AB[0] + normal_vector[0], A[1] + AB[1] + normal_vector[1]]\n",
        "    F = [B[0] + AB[0] + normal_vector[0], B[1] + AB[1] + normal_vector[1]]\n",
        "\n",
        "    return [(A, B, C, D), (B, C, D, E)]\n",
        "\n",
        "# Nhập tọa độ điểm A và B\n",
        "A = list(map(float, input().split()))\n",
        "B = list(map(float, input().split()))\n",
        "\n",
        "# Tìm và in ra tọa độ các hình vuông\n",
        "squares = find_square_vertices(A, B)\n",
        "for square in squares:\n",
        "    for point in square:\n",
        "        print('({:.1f}, {:.1f})'.format(point[0], point[1]), end=' ')\n",
        "    print()\n"
      ],
      "metadata": {
        "colab": {
          "base_uri": "https://localhost:8080/"
        },
        "id": "otIDC00lE9gG",
        "outputId": "e0fa6cae-a2f9-42ae-c2d8-5ad35e822dbe"
      },
      "execution_count": null,
      "outputs": [
        {
          "output_type": "stream",
          "name": "stdout",
          "text": [
            "2 4\n",
            "3 4\n",
            "(2.0, 4.0) (3.0, 4.0) (3.0, 5.0) (2.0, 5.0) \n",
            "(3.0, 4.0) (3.0, 5.0) (2.0, 5.0) (3.0, 5.0) \n"
          ]
        }
      ]
    },
    {
      "cell_type": "code",
      "source": [],
      "metadata": {
        "id": "ATpgASSPU1_c"
      },
      "execution_count": null,
      "outputs": []
    },
    {
      "cell_type": "markdown",
      "source": [
        "Câu khóa\n"
      ],
      "metadata": {
        "id": "PbUhWzH3U2ar"
      }
    },
    {
      "cell_type": "code",
      "source": [
        "def gcd(a, b):\n",
        "    while b:\n",
        "        a, b = b, a % b\n",
        "    return a\n",
        "\n",
        "def is_special(num):\n",
        "    for i in range(2, int(num ** 0.5) + 1):\n",
        "        if num % (i ** 2) == 0:\n",
        "            return False\n",
        "    return True\n",
        "\n",
        "def count_strong_key_pairs(L, R):\n",
        "    special_numbers = [num for num in range(2, int(R ** 0.5) + 1) if is_special(num)]\n",
        "\n",
        "    count = 0\n",
        "    for x in special_numbers:\n",
        "        for y in range(x + 1, int(R / x) + 1):\n",
        "            if gcd(x, y) == 1:\n",
        "                count += 1\n",
        "\n",
        "    return count\n",
        "\n",
        "# Nhập giá trị L và R\n",
        "L, R = map(int, input().split())\n",
        "\n",
        "# In số cặp khóa mã hóa mạnh\n",
        "print(count_strong_key_pairs(L, R))"
      ],
      "metadata": {
        "colab": {
          "base_uri": "https://localhost:8080/"
        },
        "id": "y3TBPdlsU3lr",
        "outputId": "d540676d-b826-4479-f4ac-f5056252c067"
      },
      "execution_count": null,
      "outputs": [
        {
          "output_type": "stream",
          "name": "stdout",
          "text": [
            "3 9\n",
            "1\n"
          ]
        }
      ]
    },
    {
      "cell_type": "code",
      "source": [
        "def kiem_tra_so_nguyen_to(n):\n",
        "    if n <= 1:\n",
        "        return False\n",
        "    for i in range(2, int(n ** 0.5) + 1):\n",
        "        if n % i == 0:\n",
        "            return False\n",
        "    return True\n",
        "\n",
        "def kiem_tra_so_khong_chia_het_boi_binh_phuong(n):\n",
        "    for i in range(2, n):\n",
        "        if kiem_tra_so_nguyen_to(i) and n % (i ** 2) == 0:\n",
        "            return False\n",
        "    return True\n",
        "\n",
        "def tim_so_nguyen_to_khong_chia_het_boi_binh_phuong(L, R):\n",
        "    count = 0\n",
        "    for n in range(L, R + 1):\n",
        "        if kiem_tra_so_nguyen_to(n) and kiem_tra_so_khong_chia_het_boi_binh_phuong(n):\n",
        "            print(n)\n",
        "            count += 1\n",
        "            if count == 10:  # In ra 10 số thỏa mãn\n",
        "                break\n",
        "\n",
        "L = int(input(\"Nhập giá trị L: \"))\n",
        "R = int(input(\"Nhập giá trị R: \"))\n",
        "\n",
        "tim_so_nguyen_to_khong_chia_het_boi_binh_phuong(L, R)"
      ],
      "metadata": {
        "colab": {
          "base_uri": "https://localhost:8080/"
        },
        "id": "aaGXVOrfV8EF",
        "outputId": "257c1380-bef3-489a-c83b-e735d3ba80b7"
      },
      "execution_count": null,
      "outputs": [
        {
          "output_type": "stream",
          "name": "stdout",
          "text": [
            "Nhập giá trị L: 3\n",
            "Nhập giá trị R: 9\n",
            "3\n",
            "5\n",
            "7\n"
          ]
        }
      ]
    },
    {
      "cell_type": "code",
      "source": [
        "def kiem_tra_so_khong_chia_het_boi_binh_phuong(n):\n",
        "    for i in range(2, int(n ** 0.5) + 1):\n",
        "        if n % (i ** 2) == 0:\n",
        "            return False\n",
        "    return True\n",
        "\n",
        "def tim_so_khong_chia_het_boi_binh_phuong_trong_khoang(L, R):\n",
        "    for n in range(L, R + 1):\n",
        "        if kiem_tra_so_khong_chia_het_boi_binh_phuong(n):\n",
        "            print(n)\n",
        "\n",
        "tim_so_khong_chia_het_boi_binh_phuong_trong_khoang(3,9)\n"
      ],
      "metadata": {
        "colab": {
          "base_uri": "https://localhost:8080/"
        },
        "id": "k-kSPDSAWsGc",
        "outputId": "a9c471ca-5d6d-4f8a-9f0a-8fd16e27a24a"
      },
      "execution_count": null,
      "outputs": [
        {
          "output_type": "stream",
          "name": "stdout",
          "text": [
            "3\n",
            "5\n",
            "6\n",
            "7\n"
          ]
        }
      ]
    },
    {
      "cell_type": "code",
      "source": [
        "def in_tat_ca_cap(arr):\n",
        "    n = len(arr)\n",
        "    for i in range(n):\n",
        "        for j in range(i + 1, n):\n",
        "            print(arr[i], arr[j])\n",
        "\n",
        "# Mảng số\n",
        "array = [3, 5, 6, 7]\n",
        "\n",
        "# In ra tất cả các cặp trong mảng\n",
        "in_tat_ca_cap(array)"
      ],
      "metadata": {
        "colab": {
          "base_uri": "https://localhost:8080/"
        },
        "id": "lb02X3f3XCK9",
        "outputId": "6a024653-1c3c-4816-a859-0ac109c4d20b"
      },
      "execution_count": null,
      "outputs": [
        {
          "output_type": "stream",
          "name": "stdout",
          "text": [
            "3 5\n",
            "3 6\n",
            "3 7\n",
            "5 6\n",
            "5 7\n",
            "6 7\n"
          ]
        }
      ]
    },
    {
      "cell_type": "code",
      "source": [
        "from itertools import combinations\n",
        "def kiem_tra_so_khong_chia_het_boi_binh_phuong(n):\n",
        "    for i in range(2, int(n ** 0.5) + 1):\n",
        "        if n % (i ** 2) == 0:\n",
        "            return False\n",
        "    return True\n",
        "\n",
        "def tim_so_khong_chia_het_boi_binh_phuong_trong_khoang(L, R):\n",
        "    result = []  # Khởi tạo mảng kết quả\n",
        "    for n in range(L, R + 1):\n",
        "        if kiem_tra_so_khong_chia_het_boi_binh_phuong(n):\n",
        "            result.append(n)  # Thêm số n vào mảng kết quả\n",
        "    return result  # Trả về mảng kết quả\n",
        "\n",
        "\n",
        "def in_tat_ca_cap_va_dem_so_luong(arr):\n",
        "    count = 0\n",
        "    for pair in combinations(arr, 2):\n",
        "        count += 1\n",
        "        print(pair, end=\", \")\n",
        "\n",
        "    print(\"\\nTổng số cặp:\", count)\n",
        "\n",
        "# Gọi hàm và lưu kết quả vào một biến\n",
        "array = tim_so_khong_chia_het_boi_binh_phuong_trong_khoang(3, 9)\n",
        "\n",
        "\n",
        "\n",
        "# In ra tất cả các cặp và đếm số lượng cặp\n",
        "in_tat_ca_cap_va_dem_so_luong(array)"
      ],
      "metadata": {
        "colab": {
          "base_uri": "https://localhost:8080/"
        },
        "id": "2lfSKLGLXP5V",
        "outputId": "b0856bca-9ed7-494c-ce9b-bc0fba1f4d1f"
      },
      "execution_count": null,
      "outputs": [
        {
          "output_type": "stream",
          "name": "stdout",
          "text": [
            "(3, 5), (3, 6), (3, 7), (5, 6), (5, 7), (6, 7), \n",
            "Tổng số cặp: 6\n"
          ]
        }
      ]
    },
    {
      "cell_type": "code",
      "source": [
        "from itertools import combinations\n",
        "\n",
        "def kiem_tra_so_khong_chia_het_boi_binh_phuong(n):\n",
        "    for i in range(2, int(n ** 0.5) + 1):\n",
        "        if n % (i ** 2) == 0:\n",
        "            return False\n",
        "    return True\n",
        "\n",
        "def loc_mang_theo_dieu_kien(arr):\n",
        "    index = 0\n",
        "    while index < len(arr):\n",
        "        if not kiem_tra_so_khong_chia_het_boi_binh_phuong(arr[index]):\n",
        "            arr.remove(arr[index])\n",
        "        else:\n",
        "            index += 1\n",
        "\n",
        "# Ví dụ mảng các số\n",
        "mang_so = [3, 5, 6, 7,4]\n",
        "\n",
        "loc_mang_theo_dieu_kien(mang_so)\n",
        "\n",
        "print(\"Mảng sau khi lọc:\", mang_so)"
      ],
      "metadata": {
        "colab": {
          "base_uri": "https://localhost:8080/"
        },
        "id": "AzE16C6tadIF",
        "outputId": "87f06917-4c78-4842-b449-5994bcded118"
      },
      "execution_count": null,
      "outputs": [
        {
          "output_type": "stream",
          "name": "stdout",
          "text": [
            "Mảng sau khi lọc: [3, 5, 6, 7]\n"
          ]
        }
      ]
    },
    {
      "cell_type": "code",
      "source": [
        "from itertools import combinations\n",
        "\n",
        "def kiem_tra_so_khong_chia_het_boi_binh_phuong(n):\n",
        "    for i in range(2, int(n ** 0.5) + 1):\n",
        "        if n % (i ** 2) == 0:\n",
        "            return False\n",
        "    return True\n",
        "\n",
        "def tao_mang_ket_qua(arr):\n",
        "    result_array = []\n",
        "    for pair in combinations(arr, 2):\n",
        "        result_array.append(pair[0] * pair[1])\n",
        "    return result_array\n",
        "\n",
        "def tim_so_khong_chia_het_boi_binh_phuong_trong_khoang(L, R):\n",
        "    result_array = []\n",
        "    for n in range(L, R + 1):\n",
        "        if kiem_tra_so_khong_chia_het_boi_binh_phuong(n):\n",
        "            result_array.append(n)\n",
        "    return tao_mang_ket_qua(result_array)\n",
        "\n",
        "def loc_mang_theo_dieu_kien(arr):\n",
        "    index = 0\n",
        "    while index < len(arr):\n",
        "        if not kiem_tra_so_khong_chia_het_boi_binh_phuong(arr[index]):\n",
        "            arr.remove(arr[index])\n",
        "        else:\n",
        "            index += 1\n",
        "\n",
        "a, b = map(int, input().split())\n",
        "result = tim_so_khong_chia_het_boi_binh_phuong_trong_khoang(a, b)\n",
        "\n",
        "loc_mang_theo_dieu_kien(result)\n",
        "print(len(result))"
      ],
      "metadata": {
        "colab": {
          "base_uri": "https://localhost:8080/"
        },
        "id": "kL5bQ7ePa5kt",
        "outputId": "2de6c8e2-9fd9-4686-d680-9fc71c880129"
      },
      "execution_count": null,
      "outputs": [
        {
          "output_type": "stream",
          "name": "stdout",
          "text": [
            "2 2\n",
            "0\n"
          ]
        }
      ]
    },
    {
      "cell_type": "code",
      "source": [
        "from itertools import combinations\n",
        "\n",
        "def kiem_tra_so_khong_chia_het_boi_binh_phuong(n):\n",
        "    for i in range(2, int(n ** 0.5) + 1):\n",
        "        if n % (i ** 2) == 0:\n",
        "            return False\n",
        "    return True\n",
        "\n",
        "def tao_mang_ket_qua(arr):\n",
        "    return [pair[0] * pair[1] for pair in combinations(arr, 2)]\n",
        "\n",
        "def tim_so_khong_chia_het_boi_binh_phuong_trong_khoang(L, R):\n",
        "     return [n for n in range(L, R + 1) if kiem_tra_so_khong_chia_het_boi_binh_phuong(n)]\n",
        "\n",
        "def loc_mang_theo_dieu_kien(arr):\n",
        "    return [x for x in arr if kiem_tra_so_khong_chia_het_boi_binh_phuong(x)]\n",
        "\n",
        "a, b = map(int, input().split())\n",
        "result_array = tim_so_khong_chia_het_boi_binh_phuong_trong_khoang(a, b)\n",
        "\n",
        "final_result = tao_mang_ket_qua(result_array)\n",
        "filtered_result = loc_mang_theo_dieu_kien(final_result)\n",
        "print(len(filtered_result))"
      ],
      "metadata": {
        "colab": {
          "base_uri": "https://localhost:8080/"
        },
        "id": "rEnBl6iceWlV",
        "outputId": "6f238b35-80db-4602-cbd4-69c8181b7870"
      },
      "execution_count": null,
      "outputs": [
        {
          "output_type": "stream",
          "name": "stdout",
          "text": [
            "3 9\n",
            "5\n"
          ]
        }
      ]
    },
    {
      "cell_type": "markdown",
      "source": [],
      "metadata": {
        "id": "89-KpptIfV39"
      }
    },
    {
      "cell_type": "code",
      "source": [
        "from itertools import combinations\n",
        "\n",
        "def kiem_tra_so_khong_chia_het_boi_binh_phuong(n):\n",
        "    for i in range(2, int(n ** 0.5) + 1):\n",
        "        if n % (i ** 2) == 0:\n",
        "            return False\n",
        "    return True\n",
        "\n",
        "def tao_mang_ket_qua(arr):\n",
        "    result_array = []\n",
        "    for pair in combinations(arr, 2):\n",
        "        result_array.append(pair[0] * pair[1])\n",
        "    return result_array\n",
        "\n",
        "def tim_so_khong_chia_het_boi_binh_phuong_trong_khoang(L, R):\n",
        "    return (n for n in range(L, R + 1) if kiem_tra_so_khong_chia_het_boi_binh_phuong(n))\n",
        "\n",
        "def loc_mang_theo_dieu_kien(arr):\n",
        "    return [x for x in arr if kiem_tra_so_khong_chia_het_boi_binh_phuong(x)]\n",
        "\n",
        "a, b = map(int, input().split())\n",
        "result = tim_so_khong_chia_het_boi_binh_phuong_trong_khoang(a, b)\n",
        "result = tao_mang_ket_qua(loc_mang_theo_dieu_kien(result))\n",
        "print(len(result))\n"
      ],
      "metadata": {
        "colab": {
          "base_uri": "https://localhost:8080/"
        },
        "id": "0Te4J79ZerFV",
        "outputId": "7806a13c-d73c-4589-f926-c0f2814af888"
      },
      "execution_count": null,
      "outputs": [
        {
          "output_type": "stream",
          "name": "stdout",
          "text": [
            "3 9\n",
            "6\n"
          ]
        }
      ]
    },
    {
      "cell_type": "markdown",
      "source": [
        "đảo chữ"
      ],
      "metadata": {
        "id": "D9X1XqcMh50N"
      }
    },
    {
      "cell_type": "code",
      "source": [
        "def can_transform(a, b):\n",
        "    count_a = {}\n",
        "    count_b = {}\n",
        "\n",
        "    # Đếm số lần xuất hiện của mỗi ký tự trong chuỗi a và b\n",
        "    for char in a:\n",
        "        count_a[char] = count_a.get(char, 0) + 1\n",
        "    for char in b:\n",
        "        count_b[char] = count_b.get(char, 0) + 1\n",
        "\n",
        "    # Kiểm tra xem số lần xuất hiện của mỗi ký tự trong a và b có phải là lẻ hay không\n",
        "    for key, value in count_a.items():\n",
        "        if value % 2 != 0:\n",
        "            if key not in count_b or count_b[key] % 2 != 0:\n",
        "                return \"NO\"\n",
        "    for key, value in count_b.items():\n",
        "        if value % 2 != 0:\n",
        "            if key not in count_a or count_a[key] % 2 != 0:\n",
        "                return \"NO\"\n",
        "\n",
        "    return \"YES\"\n",
        "\n",
        "# Đọc số lượng test case\n",
        "t = int(input())\n",
        "\n",
        "# Khởi tạo mảng lưu kết quả\n",
        "results = []\n",
        "\n",
        "# Đọc và xử lý từng test case\n",
        "for _ in range(t):\n",
        "    # Đọc chuỗi a và b\n",
        "    a = input()\n",
        "    b = input()\n",
        "\n",
        "    # Lưu kết quả vào mảng\n",
        "    results.append(can_transform(a, b))\n",
        "\n",
        "# In kết quả của tất cả các test case\n",
        "for result in results:\n",
        "    print(result)"
      ],
      "metadata": {
        "colab": {
          "base_uri": "https://localhost:8080/"
        },
        "id": "sy4qTvSOh5Ll",
        "outputId": "c10107ed-bee3-4a34-96cd-de80517862ba"
      },
      "execution_count": null,
      "outputs": [
        {
          "output_type": "stream",
          "name": "stdout",
          "text": [
            "2\n",
            "hanoi\n",
            "ionah\n",
            "huhuu\n",
            "uuhuh\n",
            "NO\n",
            "NO\n"
          ]
        }
      ]
    },
    {
      "cell_type": "code",
      "source": [],
      "metadata": {
        "id": "74lZ2JEtjdvx"
      },
      "execution_count": null,
      "outputs": []
    },
    {
      "cell_type": "code",
      "source": [
        "def is_odd_string(s):\n",
        "    return len(s) % 2 != 0\n",
        "\n",
        "def reverse_string(s):\n",
        "    return s[::-1]\n",
        "\n",
        "def check_if_possible(a, b):\n",
        "    for i in range(len(a)):\n",
        "        for j in range(i + 1, len(a) + 1):\n",
        "            if is_odd_string(a[i:j]):\n",
        "                reversed_substring = reverse_string(a[i:j])\n",
        "                new_a = a[:i] + reversed_substring + a[j:]\n",
        "                if new_a == b:\n",
        "                    return \"YES\"\n",
        "    return \"NO\"\n",
        "\n",
        "# Đọc số lượng test case\n",
        "t = int(input())\n",
        "\n",
        "# Khởi tạo mảng lưu kết quả\n",
        "results = []\n",
        "\n",
        "# Đọc và xử lý từng test case\n",
        "for _ in range(t):\n",
        "    # Đọc chuỗi a và b\n",
        "    a = input()\n",
        "    b = input()\n",
        "\n",
        "    # Lưu kết quả vào mảng\n",
        "    results.append(check_if_possible(a, b))\n",
        "\n",
        "# In kết quả của tất cả các test case\n",
        "for result in results:\n",
        "    print(result)\n"
      ],
      "metadata": {
        "colab": {
          "base_uri": "https://localhost:8080/"
        },
        "id": "5wWrK_oQjVa-",
        "outputId": "d61f5c3a-9286-41f4-da4a-bf6709a7273a"
      },
      "execution_count": null,
      "outputs": [
        {
          "output_type": "stream",
          "name": "stdout",
          "text": [
            "3\n",
            "hanoi\n",
            "ionah\n",
            "huhu\n",
            "huhu\n",
            "huhu\n",
            "haha\n",
            "YES\n",
            "YES\n",
            "NO\n"
          ]
        }
      ]
    },
    {
      "cell_type": "code",
      "source": [
        "from itertools import combinations\n",
        "\n",
        "def kiem_tra_so_khong_chia_het_boi_binh_phuong(n):\n",
        "    for i in range(2, int(n ** 0.5) + 1):\n",
        "        if n % (i ** 2) == 0:\n",
        "            return False\n",
        "    return True\n",
        "\n",
        "def tao_mang_ket_qua(arr):\n",
        "    return [pair[0] * pair[1] for pair in combinations(arr, 2)]\n",
        "\n",
        "def tim_so_khong_chia_het_boi_binh_phuong_trong_khoang(L, R):\n",
        "    return [n for n in range(L, R + 1) if kiem_tra_so_khong_chia_het_boi_binh_phuong(n)]\n",
        "\n",
        "def loc_mang_theo_dieu_kien(arr):\n",
        "    return [x for x in arr if kiem_tra_so_khong_chia_het_boi_binh_phuong(x)]\n",
        "\n",
        "a, b = map(int, input().split())\n",
        "result_array = tim_so_khong_chia_het_boi_binh_phuong_trong_khoang(a, b)\n",
        "\n",
        "final_result = tao_mang_ket_qua(result_array)\n",
        "filtered_result = loc_mang_theo_dieu_kien(final_result)\n",
        "print(len(filtered_result))\n"
      ],
      "metadata": {
        "colab": {
          "base_uri": "https://localhost:8080/"
        },
        "id": "XzzzX8U57JJM",
        "outputId": "744786e9-6497-4d09-bd68-8c6cfa8c7bad"
      },
      "execution_count": null,
      "outputs": [
        {
          "output_type": "stream",
          "name": "stdout",
          "text": [
            "3 9\n",
            "5\n"
          ]
        }
      ]
    },
    {
      "cell_type": "code",
      "source": [
        "def can_transform(a, b):\n",
        "    if len(a) % 2 == 0 or len(b) % 2 == 0:\n",
        "        return \"NO\"\n",
        "    if len(a) != len(b):\n",
        "        return \"NO\"\n",
        "    if b != a[::-1]:\n",
        "        return \"NO\"\n",
        "    return \"YES\"\n",
        "\n",
        "\n",
        "t = int(input())\n",
        "lista = []\n",
        "\n",
        "for _ in range(t):\n",
        "\n",
        "    a = input().strip()\n",
        "    b = input().strip()\n",
        "\n",
        "    lista.append(can_transform(a, b))\n",
        "\n",
        "print(*lista,sep=\"\\n\")"
      ],
      "metadata": {
        "id": "JrE3QsJeT4IO"
      },
      "execution_count": null,
      "outputs": []
    },
    {
      "cell_type": "code",
      "source": [
        "def check_equal_char_count(a, b):\n",
        "    # Tạo từ điển đếm số lần xuất hiện của mỗi ký tự trong chuỗi a và b\n",
        "    count_a = {}\n",
        "    count_b = {}\n",
        "\n",
        "    for char in a:\n",
        "        count_a[char] = count_a.get(char, 0) + 1\n",
        "\n",
        "    for char in b:\n",
        "        count_b[char] = count_b.get(char, 0) + 1\n",
        "\n",
        "    # Kiểm tra xem từ điển đếm của a và b có bằng nhau không\n",
        "    return count_a == count_b\n",
        "\n",
        "# Sử dụng hàm để kiểm tra\n",
        "a = input(\"Nhập chuỗi a: \")\n",
        "b = input(\"Nhập chuỗi b: \")\n",
        "\n",
        "if check_equal_char_count(a, b):\n",
        "    print(\"Số lượng ký tự trong chuỗi a bằng số lượng ký tự trong chuỗi b.\")\n",
        "else:\n",
        "    print(\"Số lượng ký tự trong chuỗi a không bằng số lượng ký tự trong chuỗi b.\")"
      ],
      "metadata": {
        "id": "VzQrdXvXWmee",
        "outputId": "b6ab2081-9444-462f-eb50-92912cc718a1",
        "colab": {
          "base_uri": "https://localhost:8080/"
        }
      },
      "execution_count": null,
      "outputs": [
        {
          "output_type": "stream",
          "name": "stdout",
          "text": [
            "Nhập chuỗi a: aaa\n",
            "Nhập chuỗi b: aba\n",
            "Số lượng ký tự trong chuỗi a không bằng số lượng ký tự trong chuỗi b.\n"
          ]
        }
      ]
    },
    {
      "cell_type": "code",
      "source": [
        "def is_square(A, B, C):\n",
        "  if (A[0] - B[0]) * 2 + (A[1] - B[1]) * 2 != (A[0] - C[0]) * 2 + (A[1] - C[1]) * 2:\n",
        "    return False\n",
        "  if (B[0] - A[0]) * (C[0] - A[0]) + (B[1] - A[1]) * (C[1] - A[1]) != 0:\n",
        "    return False\n",
        "  return True\n",
        "\n",
        "def get_clockwise_coords(A, B, C):\n",
        "  dx, dy = B[0] - A[0], B[1] - A[1]\n",
        "  if dx > 0 and dy >= 0:\n",
        "      return [A, B, C, (C[0] + dx, C[1] - dy)]\n",
        "  elif dx >= 0 and dy < 0:\n",
        "      return [A, B, C, (C[0] - dy, C[1] + dx)]\n",
        "  elif dx < 0 and dy <= 0:\n",
        "      return [A, C, B, (B[0] - dx, B[1] + dy)]\n",
        "  else:\n",
        "      return [A, C, B, (B[0] + dy, B[1] - dx)]\n",
        "\n",
        "\n",
        "A = list(map(int, input().split()))\n",
        "B = list(map(int, input().split()))\n",
        "candidates = []\n",
        "for i in range(-100, 101):\n",
        "    for j in range(-100, 101):\n",
        "      candidates.append((i, j))\n",
        "squares = []\n",
        "for C in candidates:\n",
        "    if is_square(A, B, C):\n",
        "      squares.append(get_clockwise_coords(A, B, C))\n",
        "for square in squares:\n",
        "    for point in square:\n",
        "      print(*point, end=\" \")\n",
        "    print()\n",
        "\n"
      ],
      "metadata": {
        "colab": {
          "base_uri": "https://localhost:8080/"
        },
        "id": "RDOGAUEQD7ww",
        "outputId": "c15aabc9-03a1-4a20-cf19-3ae41ec37347"
      },
      "execution_count": null,
      "outputs": [
        {
          "output_type": "stream",
          "name": "stdout",
          "text": [
            "2 4\n",
            "3 4\n",
            "2 4 3 4 2 5 3 5 \n"
          ]
        }
      ]
    },
    {
      "cell_type": "code",
      "source": [
        "import math\n",
        "\n",
        "def normalize_vector(vector):\n",
        "    # Tính toán độ dài của vector\n",
        "    length = math.sqrt(vector[0] ** 2 + vector[1] ** 2)\n",
        "\n",
        "    # Chuẩn hóa vector về độ dài 1\n",
        "    normalized = (vector[0] / length, vector[1] / length)\n",
        "    return normalized\n",
        "\n",
        "def scale_vector(vector, scale):\n",
        "    # Tăng độ dài của vector bằng cách nhân với hằng số scale\n",
        "    scaled = (vector[0] * scale, vector[1] * scale)\n",
        "    return scaled\n",
        "\n",
        "def create_line(normal, A, B):\n",
        "    # Chuẩn hóa vectơ pháp tuyến\n",
        "    normalized_normal = normalize_vector(normal)\n",
        "\n",
        "    # Tính độ dài của đoạn thẳng AB\n",
        "    AB_length = math.sqrt((B[0] - A[0]) ** 2 + (B[1] - A[1]) ** 2)\n",
        "\n",
        "    # Tạo hai vectơ pháp tuyến cùng hướng nhưng có độ dài bằng AB\n",
        "    scaled_normal_positive = scale_vector(normalized_normal, AB_length)\n",
        "    scaled_normal_negative = scale_vector(normalized_normal, -AB_length)\n",
        "\n",
        "    # Tính toán hai điểm mới nằm trên đường thẳng\n",
        "    point1 = (A[0] + scaled_normal_positive[0], A[1] + scaled_normal_positive[1])\n",
        "    point2 = (A[0] + scaled_normal_negative[0], A[1] + scaled_normal_negative[1])\n",
        "\n",
        "    point3 = (B[0] + scaled_normal_positive[0], B[1] + scaled_normal_positive[1])\n",
        "    point4 = (B[0] + scaled_normal_negative[0], B[1] + scaled_normal_negative[1])\n",
        "    return point1,point2,point3,point4\n",
        "\n",
        "def compare_points(point1, point2):\n",
        "            return point2, point1\n",
        "\n",
        "# Nhập tọa độ của điểm A và B từ người dùng\n",
        "A = tuple(map(float, input().split()))\n",
        "B = tuple(map(float, input().split()))\n",
        "\n",
        "# Tạo vector AB\n",
        "vector_AB = (B[0] - A[0], B[1] - A[1])\n",
        "\n",
        "# Tạo vector pháp tuyến của AB\n",
        "normal_AB = (vector_AB[1], -vector_AB[0])\n",
        "\n",
        "# Tạo hai điểm trên đường thẳng A va B\n",
        "point1, point2,point3,point4 = create_line(normal_AB, A, B)\n",
        "\n",
        "# So sánh và in ra điểm lớn hơn trước\n",
        "A1, A2 = compare_points(point1, point2)\n",
        "B1, B2 = compare_points(point3, point4)\n",
        "\n",
        "# In kết quả\n",
        "print(f\"{A} {A1} {B1} {B}\")\n",
        "print(f\"{A} {B} {B2} {A2}\")"
      ],
      "metadata": {
        "colab": {
          "base_uri": "https://localhost:8080/"
        },
        "id": "wDe7pUwvEp4P",
        "outputId": "e83b67cb-f16d-4715-847d-1fe593a7359d"
      },
      "execution_count": 26,
      "outputs": [
        {
          "output_type": "stream",
          "name": "stdout",
          "text": [
            "2 4\n",
            "3 4\n",
            "(2.0, 4.0) (2.0, 5.0) (3.0, 5.0) (3.0, 4.0)\n",
            "(2.0, 4.0) (3.0, 4.0) (3.0, 3.0) (2.0, 3.0)\n"
          ]
        }
      ]
    },
    {
      "cell_type": "code",
      "source": [
        "import math\n",
        "\n",
        "def normalize_vector(vector):\n",
        "    length = math.sqrt(vector[0] ** 2 + vector[1] ** 2)\n",
        "    normalized = (vector[0] / length, vector[1] / length)\n",
        "    return normalized\n",
        "\n",
        "def scale_vector(vector, scale):\n",
        "    scaled = (vector[0] * scale, vector[1] * scale)\n",
        "    return scaled\n",
        "\n",
        "def create_line(normal, A, B):\n",
        "    normalized_normal = normalize_vector(normal)\n",
        "    AB_length = math.sqrt((B[0] - A[0]) ** 2 + (B[1] - A[1]) ** 2)\n",
        "    scaled_normal_positive = scale_vector(normalized_normal, AB_length)\n",
        "    scaled_normal_negative = scale_vector(normalized_normal, -AB_length)\n",
        "\n",
        "    point1 = (A[0] + scaled_normal_positive[0], A[1] + scaled_normal_positive[1])\n",
        "    point2 = (A[0] + scaled_normal_negative[0], A[1] + scaled_normal_negative[1])\n",
        "\n",
        "    point3 = (B[0] + scaled_normal_positive[0], B[1] + scaled_normal_positive[1])\n",
        "    point4 = (B[0] + scaled_normal_negative[0], B[1] + scaled_normal_negative[1])\n",
        "    return point1, point2, point3, point4\n",
        "\n",
        "def compare_points(point1, point2):\n",
        "            return point2, point1\n",
        "\n",
        "A = tuple(map(float, input().split()))\n",
        "B = tuple(map(float, input().split()))\n",
        "\n",
        "vector_AB = (B[0] - A[0], B[1] - A[1])\n",
        "normal_AB = (vector_AB[1], -vector_AB[0])\n",
        "\n",
        "point1, point2, point3, point4 = create_line(normal_AB, A, B)\n",
        "\n",
        "A1, A2 = compare_points(point1, point2)\n",
        "B1, B2 = compare_points(point3, point4)\n",
        "\n",
        "def round_decimal_tuple(point):\n",
        "    return tuple(round(x, 10) for x in point)  # Làm tròn đến 6 chữ số thập phân\n",
        "# Sử dụng hàm round_decimal_tuple() để làm tròn các tuple A, B, A1, B1, A2, B2\n",
        "A = round_decimal_tuple(A)\n",
        "B = round_decimal_tuple(B)\n",
        "A1 = round_decimal_tuple(A1)\n",
        "B1 = round_decimal_tuple(B1)\n",
        "A2 = round_decimal_tuple(A2)\n",
        "B2 = round_decimal_tuple(B2)\n",
        "\n",
        "\n",
        "A = tuple(int(x) if x.is_integer() else x for x in A)\n",
        "B = tuple(int(x) if x.is_integer() else x for x in B)\n",
        "A1 = tuple(int(x) if x.is_integer() else x for x in A1)\n",
        "B1 = tuple(int(x) if x.is_integer() else x for x in B1)\n",
        "A2 = tuple(int(x) if x.is_integer() else x for x in A2)\n",
        "B2 = tuple(int(x) if x.is_integer() else x for x in B2)\n",
        "\n",
        "print(f\"{A} {A1} {B1} {B}\")\n",
        "print(f\"{A} {B} {B2} {A2}\")"
      ],
      "metadata": {
        "colab": {
          "base_uri": "https://localhost:8080/"
        },
        "id": "FFGaUbCcq1Ly",
        "outputId": "f949be20-f0c9-4b83-8585-6ba46bdce737"
      },
      "execution_count": 25,
      "outputs": [
        {
          "output_type": "stream",
          "name": "stdout",
          "text": [
            "2 4\n",
            "3 4\n",
            "(2, 4) (2, 3) (3, 3) (3, 4)\n",
            "(2, 4) (3, 4) (3, 5) (2, 5)\n"
          ]
        }
      ]
    },
    {
      "cell_type": "code",
      "source": [
        "if 2.0 == 2:\n",
        "  print(\"haha\")\n",
        "else:\n",
        "  print(\"huhu\")"
      ],
      "metadata": {
        "colab": {
          "base_uri": "https://localhost:8080/"
        },
        "id": "TQVz2wTLCQj4",
        "outputId": "d6914311-c26b-4cfb-d6fc-630b55da4108"
      },
      "execution_count": null,
      "outputs": [
        {
          "output_type": "stream",
          "name": "stdout",
          "text": [
            "haha\n"
          ]
        }
      ]
    },
    {
      "cell_type": "code",
      "source": [
        "import math\n",
        "\n",
        "def rotate_point(point, center, angle_degrees):\n",
        "    # Convert degrees to radians\n",
        "    angle_radians = math.radians(angle_degrees)\n",
        "\n",
        "    # Translate so the center is at the origin\n",
        "    translated_point = (point[0] - center[0], point[1] - center[1])\n",
        "\n",
        "    # Perform the rotation\n",
        "    rotated_x = translated_point[0] * math.cos(angle_radians) - translated_point[1] * math.sin(angle_radians)\n",
        "    rotated_y = translated_point[0] * math.sin(angle_radians) + translated_point[1] * math.cos(angle_radians)\n",
        "\n",
        "    # Translate back to the original coordinate system\n",
        "    new_x = rotated_x + center[0]\n",
        "    new_y = rotated_y + center[1]\n",
        "\n",
        "    return (new_x, new_y)\n",
        "\n",
        "# Example usage\n",
        "point_A = (2, 4)  # Tọa độ của điểm A\n",
        "center_O = (2.5, 3.5)  # Tọa độ của tâm đường tròn O\n",
        "rotation_angle = -90  # Góc xoay là 90 độ theo hướng cùng chiều kim đồng hồ\n",
        "\n",
        "new_point = rotate_point(point_A, center_O, rotation_angle)\n",
        "print(\"Tọa độ của điểm tiếp theo của A là:\", new_point)\n"
      ],
      "metadata": {
        "colab": {
          "base_uri": "https://localhost:8080/"
        },
        "id": "IPetbIoJQKwl",
        "outputId": "188393a8-796c-478b-bc9a-ff51a9d882eb"
      },
      "execution_count": 3,
      "outputs": [
        {
          "output_type": "stream",
          "name": "stdout",
          "text": [
            "Tọa độ của điểm tiếp theo của A là: (3.0, 4.0)\n"
          ]
        }
      ]
    },
    {
      "cell_type": "code",
      "source": [
        "def midpoint(point1, point2):\n",
        "    x_mid = (point1[0] + point2[0]) / 2\n",
        "    y_mid = (point1[1] + point2[1]) / 2\n",
        "    return (x_mid, y_mid)"
      ],
      "metadata": {
        "id": "gURuGpSsSZyO"
      },
      "execution_count": null,
      "outputs": []
    },
    {
      "cell_type": "code",
      "source": [
        "import math\n",
        "\n",
        "def normalize_vector(vector):\n",
        "    length = math.sqrt(vector[0] ** 2 + vector[1] ** 2)\n",
        "    normalized = (vector[0] / length, vector[1] / length)\n",
        "    return normalized\n",
        "\n",
        "def scale_vector(vector, scale):\n",
        "    scaled = (vector[0] * scale, vector[1] * scale)\n",
        "    return scaled\n",
        "# tạo 2 tâm hình tròn ngoại tiếp hình vuông\n",
        "def create_line(normal, A, B):\n",
        "    normalized_normal = normalize_vector(normal)\n",
        "    AB_length = math.sqrt((B[0] - A[0]) ** 2 + (B[1] - A[1]) ** 2)\n",
        "    scaled_length = AB_length / 2  # Độ dài mới là một nửa độ dài của đoạn thẳng AB\n",
        "    scaled_normal_positive = scale_vector(normalized_normal, scaled_length)\n",
        "    scaled_normal_negative = scale_vector(normalized_normal, -scaled_length)\n",
        "\n",
        "    # Chọn một điểm bất kỳ làm điểm mốc\n",
        "    midpoint = ((A[0] + B[0]) / 2, (A[1] + B[1]) / 2)\n",
        "\n",
        "    # Tạo ra các điểm trên đường thẳng\n",
        "    point1 = (midpoint[0] + scaled_normal_positive[0], midpoint[1] + scaled_normal_positive[1])\n",
        "    point2 = (midpoint[0] + scaled_normal_negative[0], midpoint[1] + scaled_normal_negative[1])\n",
        "\n",
        "    return point1, point2\n",
        "\n",
        "# Dùng để xoay khi có tâm hình tròn\n",
        "def rotate_point(point, center, angle_degrees):\n",
        "    # Convert degrees to radians\n",
        "    angle_radians = math.radians(angle_degrees)\n",
        "\n",
        "    # Translate so the center is at the origin\n",
        "    translated_point = (point[0] - center[0], point[1] - center[1])\n",
        "\n",
        "    # Perform the rotation\n",
        "    rotated_x = translated_point[0] * math.cos(angle_radians) - translated_point[1] * math.sin(angle_radians)\n",
        "    rotated_y = translated_point[0] * math.sin(angle_radians) + translated_point[1] * math.cos(angle_radians)\n",
        "\n",
        "    # Translate back to the original coordinate system\n",
        "    new_x = rotated_x + center[0]\n",
        "    new_y = rotated_y + center[1]\n",
        "\n",
        "    return (new_x, new_y)\n",
        "\n",
        "A = tuple(map(float, input().split()))\n",
        "B = tuple(map(float, input().split()))\n",
        "\n",
        "\n",
        "vector_AB = (B[0] - A[0], B[1] - A[1])\n",
        "normal_AB = (vector_AB[1], -vector_AB[0])\n",
        "\n",
        "point1, point2 = create_line(normal_AB, A, B)\n",
        "\n",
        "rotation_angle = -90  # Góc xoay là 90 độ theo hướng cùng chiều kim đồng hồ\n",
        "A1 = rotate_point(B, A, 90)\n",
        "A2 = rotate_point(A, A1, 90)\n",
        "A3 = rotate_point(A1, A2, 90)\n",
        "\n",
        "A4 = rotate_point(B, A, -90)\n",
        "A5 = rotate_point(A, A4, -90)\n",
        "A6 = rotate_point(A4, A5, -90)\n",
        "\n",
        "A = tuple(int(x) if x.is_integer() else x for x in A)\n",
        "A1 = tuple(int(x) if x.is_integer() else x for x in A1)\n",
        "A2 = tuple(int(x) if x.is_integer() else x for x in A2)\n",
        "A3 = tuple(int(x) if x.is_integer() else x for x in A3)\n",
        "A4 = tuple(int(x) if x.is_integer() else x for x in A4)\n",
        "A5 = tuple(int(x) if x.is_integer() else x for x in A5)\n",
        "A6 = tuple(int(x) if x.is_integer() else x for x in A6)\n",
        "\n",
        "def round_point(point):\n",
        "    return tuple(round(x, 10) for x in point)  # Làm tròn đến 6 chữ số thập phân\n",
        "\n",
        "# Sau khi tính toán A1, A2, A3, A4, A5, A6, ta có thể làm tròn chúng trước khi in ra kết quả:\n",
        "A = round_point(A)\n",
        "A1, A2, A3 = round_point(A1), round_point(A2), round_point(A3)\n",
        "A4, A5, A6 = round_point(A4), round_point(A5), round_point(A6)\n",
        "# In kết quả-\n",
        "\n",
        "print(f\"{A} {A1} {A2} {A3}\")\n",
        "print(f\"{A} {A6} {A5} {A4}\")\n",
        "\n"
      ],
      "metadata": {
        "colab": {
          "base_uri": "https://localhost:8080/"
        },
        "id": "mBnr0wlPTN29",
        "outputId": "2bbb5c94-5a9e-4290-fd86-d592006b178a"
      },
      "execution_count": 20,
      "outputs": [
        {
          "output_type": "stream",
          "name": "stdout",
          "text": [
            "1.1 2.2\n",
            "3.3 4.4\n",
            "(1.1, 2.2) (-1.1, 4.4) (1.1, 6.6) (3.3, 4.4)\n",
            "(1.1, 2.2) (3.3, 4.4) (5.5, 2.2) (3.3, 0.0)\n"
          ]
        }
      ]
    },
    {
      "cell_type": "code",
      "source": [
        "(2, 4) (3, 4) (3, 3) (2, 3)\n",
        "(2, 4) (2, 5) (3, 5) (3, 4)\n"
      ],
      "metadata": {
        "id": "BWOvemiAXrTw"
      },
      "execution_count": null,
      "outputs": []
    },
    {
      "cell_type": "code",
      "source": [
        "(1.1, 2.2) (3.3, 0) (5.5, 2.2) (3.3, 4.4)\n",
        "(1.1, 2.2) (3.3, 4.4) (1.1, 6.6) (-1.1, 4.4)"
      ],
      "metadata": {
        "id": "-Ga6YtpRexuy"
      },
      "execution_count": null,
      "outputs": []
    },
    {
      "cell_type": "code",
      "source": [],
      "metadata": {
        "id": "I-7zy8a1exuH"
      },
      "execution_count": null,
      "outputs": []
    },
    {
      "cell_type": "markdown",
      "source": [
        "Bình mua hàng giảm giá:"
      ],
      "metadata": {
        "id": "oJscikTrk6so"
      }
    },
    {
      "cell_type": "code",
      "source": [
        "def extract_percentage(string):\n",
        "    words = string.split()\n",
        "    for word in words:\n",
        "        if \"%\" in word:\n",
        "            index = word.find('%')\n",
        "            substring = word[:index]\n",
        "            try:\n",
        "                percentage = float(substring)\n",
        "                return percentage\n",
        "            except ValueError:\n",
        "                pass\n",
        "    return None\n",
        "\n",
        "def can_buy_all_items(prices, messages, money):\n",
        "    for i in range(len(prices)):\n",
        "        price = prices[i]\n",
        "        message = messages[i]\n",
        "\n",
        "        percentage = extract_percentage(message)\n",
        "        if percentage is not None:\n",
        "            if \"higher than in-store\" in message:\n",
        "                price *= (100 - percentage) / 100\n",
        "            elif \"lower than in-store\" in message:\n",
        "                price *= (100 + percentage) / 100\n",
        "\n",
        "        if price > money:\n",
        "            return \"false\"\n",
        "        money -= price\n",
        "\n",
        "    return \"true\"\n",
        "\n",
        "if __name__ == \"__main__\":\n",
        "    prices_input = input()\n",
        "    prices = list(map(int, prices_input.split()))\n",
        "\n",
        "    n = len(prices)\n",
        "\n",
        "    messages = []\n",
        "    for i in range(n):\n",
        "        message = input()\n",
        "        messages.append(message)\n",
        "\n",
        "    money = int(input())\n",
        "\n",
        "    result = can_buy_all_items(prices, messages, money)\n",
        "    print(result)"
      ],
      "metadata": {
        "colab": {
          "base_uri": "https://localhost:8080/"
        },
        "id": "jFlAqvuomzNp",
        "outputId": "96d07920-0a50-4968-9291-44e00898ce9c"
      },
      "execution_count": 33,
      "outputs": [
        {
          "output_type": "stream",
          "name": "stdout",
          "text": [
            "Nhập các giá trị của món hàng, cách nhau bởi khoảng trắng: 501700 989900 254900\n",
            "Nhập thông báo cho món hàng thứ 1: Contratulation that was 2.4% lower than in-store\n",
            "Nhập thông báo cho món hàng thứ 2: Should reconsider this item is 20.0% higher than in-store\n",
            "Nhập thông báo cho món hàng thứ 3: Nice, 22.7% lower than in-store\n",
            "Nhập số tiền Bình có: 2000000\n",
            "true\n"
          ]
        }
      ]
    },
    {
      "cell_type": "code",
      "source": [
        "501700 989900 254900\n",
        "Contratulation that was 2.4% lower than in-store\n",
        "Should reconsider this item is 20.0% higher than in-store\n",
        "Nice, 22.7% lower than in-store\n",
        "2000000"
      ],
      "metadata": {
        "id": "R4Nnel0ll4wW"
      },
      "execution_count": null,
      "outputs": []
    },
    {
      "cell_type": "code",
      "source": [
        "501700 989900 254900\n",
        "Contratulation that was 2.4% lower than in-store\n",
        "Should reconsider this item is 20.0% higher than in-store\n",
        "Nice, 22.7% lower than in-store\n",
        "3300"
      ],
      "metadata": {
        "id": "0W-cEKXhnX2P"
      },
      "execution_count": null,
      "outputs": []
    }
  ]
}